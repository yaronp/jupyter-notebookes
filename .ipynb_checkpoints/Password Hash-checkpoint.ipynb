{
 "cells": [
  {
   "cell_type": "code",
   "execution_count": 16,
   "metadata": {
    "collapsed": true
   },
   "outputs": [],
   "source": [
    "import hashlib, uuid"
   ]
  },
  {
   "cell_type": "code",
   "execution_count": 17,
   "metadata": {
    "collapsed": true
   },
   "outputs": [],
   "source": [
    "password = \"password123\""
   ]
  },
  {
   "cell_type": "code",
   "execution_count": 18,
   "metadata": {
    "collapsed": false
   },
   "outputs": [
    {
     "name": "stdout",
     "output_type": "stream",
     "text": [
      "3582bb689ec960d8b603fa57156e3e10de1a90f0fcb840528fe47ec7e9fa935eb3bbf7eb03c9d88959dc60f70b15eb7d890a119e7c4967a57308a73c2b7d9c30\n"
     ]
    }
   ],
   "source": [
    "salt = uuid.uuid4().hex\n",
    "hashed_password = hashlib.sha512(password + salt).hexdigest()\n",
    "print hashed_password"
   ]
  },
  {
   "cell_type": "code",
   "execution_count": 19,
   "metadata": {
    "collapsed": false
   },
   "outputs": [
    {
     "data": {
      "text/plain": [
       "'3582bb689ec960d8b603fa57156e3e10de1a90f0fcb840528fe47ec7e9fa935eb3bbf7eb03c9d88959dc60f70b15eb7d890a119e7c4967a57308a73c2b7d9c30'"
      ]
     },
     "execution_count": 19,
     "metadata": {},
     "output_type": "execute_result"
    }
   ],
   "source": [
    "salt1 = uuid.uuid4().hex\n",
    "hashed_password1 = hashlib.sha512(password + salt).hexdigest()\n",
    "hashed_password1"
   ]
  },
  {
   "cell_type": "code",
   "execution_count": 20,
   "metadata": {
    "collapsed": false
   },
   "outputs": [
    {
     "name": "stdout",
     "output_type": "stream",
     "text": [
      "True\n"
     ]
    }
   ],
   "source": [
    "print hashed_password == hashed_password1"
   ]
  }
 ],
 "metadata": {
  "kernelspec": {
   "display_name": "Python 2",
   "language": "python",
   "name": "python2"
  },
  "language_info": {
   "codemirror_mode": {
    "name": "ipython",
    "version": 2
   },
   "file_extension": ".py",
   "mimetype": "text/x-python",
   "name": "python",
   "nbconvert_exporter": "python",
   "pygments_lexer": "ipython2",
   "version": "2.7.13"
  }
 },
 "nbformat": 4,
 "nbformat_minor": 2
}
